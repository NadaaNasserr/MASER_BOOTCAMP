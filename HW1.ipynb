{
  "nbformat": 4,
  "nbformat_minor": 0,
  "metadata": {
    "colab": {
      "provenance": [],
      "authorship_tag": "ABX9TyPa94CtYVJE5fMfo023ojVd",
      "include_colab_link": true
    },
    "kernelspec": {
      "name": "python3",
      "display_name": "Python 3"
    },
    "language_info": {
      "name": "python"
    }
  },
  "cells": [
    {
      "cell_type": "markdown",
      "metadata": {
        "id": "view-in-github",
        "colab_type": "text"
      },
      "source": [
        "<a href=\"https://colab.research.google.com/github/NadaaNasserr/MASER_BOOTCAMP/blob/main/HW1.ipynb\" target=\"_parent\"><img src=\"https://colab.research.google.com/assets/colab-badge.svg\" alt=\"Open In Colab\"/></a>"
      ]
    },
    {
      "cell_type": "code",
      "execution_count": 6,
      "metadata": {
        "colab": {
          "base_uri": "https://localhost:8080/"
        },
        "id": "IfpmZ4i0nTxi",
        "outputId": "11aaaace-e6fd-4c5c-9f3b-51c36c4f592d"
      },
      "outputs": [
        {
          "output_type": "stream",
          "name": "stdout",
          "text": [
            "My Name is nada\n",
            "My Name is 24\n"
          ]
        }
      ],
      "source": [
        "#First homework\n",
        "\n",
        "name = 'nada'\n",
        "\n",
        "age = 24\n",
        "\n",
        "print(\"My Name is \" + name)\n",
        "print(\"My Name is \" + str(age))\n"
      ]
    }
  ]
}