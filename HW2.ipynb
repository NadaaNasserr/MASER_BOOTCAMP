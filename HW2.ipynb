{
  "nbformat": 4,
  "nbformat_minor": 0,
  "metadata": {
    "colab": {
      "provenance": [],
      "authorship_tag": "ABX9TyPvX9NxR8ML1f6sO0ahjiCn",
      "include_colab_link": true
    },
    "kernelspec": {
      "name": "python3",
      "display_name": "Python 3"
    },
    "language_info": {
      "name": "python"
    }
  },
  "cells": [
    {
      "cell_type": "markdown",
      "metadata": {
        "id": "view-in-github",
        "colab_type": "text"
      },
      "source": [
        "<a href=\"https://colab.research.google.com/github/NadaaNasserr/MASER_BOOTCAMP/blob/main/HW2.ipynb\" target=\"_parent\"><img src=\"https://colab.research.google.com/assets/colab-badge.svg\" alt=\"Open In Colab\"/></a>"
      ]
    },
    {
      "cell_type": "code",
      "execution_count": 16,
      "metadata": {
        "colab": {
          "base_uri": "https://localhost:8080/"
        },
        "id": "cuBXk1NErVla",
        "outputId": "b39073cf-3ac7-467b-a13d-873c33821432"
      },
      "outputs": [
        {
          "output_type": "stream",
          "name": "stdout",
          "text": [
            "10.0 %\n",
            "10.0%\n"
          ]
        }
      ],
      "source": [
        "#other solution\n",
        "\n",
        "years = 6\n",
        "evaluation = \"Excellent\"\n",
        "\n",
        "if years <= 10:\n",
        "     if years <= 10:\n",
        "        if evaluation == \"Excellent\":\n",
        "            bonus_percentage = 0.10\n",
        "        elif evaluation == \"Poor\":\n",
        "            bonus_percentage = 0.05\n",
        "        else:\n",
        "            bonus_percentage = 0\n",
        "else:\n",
        "        if evaluation == \"Excellent\":\n",
        "            bonus_percentage = 0.20\n",
        "        elif evaluation == \"Poor\":\n",
        "            bonus_percentage = 0.15\n",
        "        else:\n",
        "            bonus_percentage = 0\n",
        "\n",
        "print(bonus_percentage * 100,'%')\n",
        "\n",
        "\n",
        "\n",
        "\n",
        "\n",
        "#Function\n",
        "\n",
        "# def calculate_bonus(years, evaluation):\n",
        "#     if years <= 10:\n",
        "#         if evaluation == \"Excellent\":\n",
        "#             bonus_percentage = 0.10\n",
        "#         elif evaluation == \"Poor\":\n",
        "#             bonus_percentage = 0.05\n",
        "#         else:\n",
        "#             bonus_percentage = 0\n",
        "#     else:\n",
        "#         if evaluation == \"Excellent\":\n",
        "#             bonus_percentage = 0.20\n",
        "#         elif evaluation == \"Poor\":\n",
        "#             bonus_percentage = 0.15\n",
        "#         else:\n",
        "#             bonus_percentage = 0\n",
        "\n",
        "#     return bonus_percentage\n",
        "\n",
        "\n",
        "# # تعيين القيم\n",
        "# employee_years = 8\n",
        "# employee_evaluation = \"Excellent\"\n",
        "\n",
        "# # حساب المكافأة\n",
        "# bonus = calculate_bonus(employee_years, employee_evaluation)\n",
        "\n",
        "# # طباعة نتيجة الحساب\n",
        "# print(f\"معدل المكافأة: {bonus * 100}%\")"
      ]
    }
  ]
}